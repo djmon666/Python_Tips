{
 "cells": [
  {
   "cell_type": "markdown",
   "metadata": {},
   "source": [
    "<h1>REPAS PYTHON</h1>\n",
    "\n",
    "<h2>BUCLES</h2>\n",
    "\n",
    "<p>Els bucles o iteracions, permeten als programes fer repeticions de porcions de codi per poder desenvolupar alguna tasca repetitiva.</p>\n",
    "<p>Tenim 2 tipus de bucles bàsics:<p>\n",
    "<ol>\n",
    "<li><b>WHILE</b></li>\n",
    "<li><b>FOR</b></li>\n",
    "</ol>\n",
    "\n",
    "<h2>WHILE</h2>\n",
    "<p>El bucle while necessita una condició per aturar-se, ja que sinó faríem un bucle infinit. Normalment utilitzem un contador emmagatzemat en una variable, que ens ajuda a compta quantes vegades ha d'executar el codi. Per exemple:</p>\n",
    "<h6><code>x = 1<br>while x < 5 : <br>&nbsp;&nbsp;&nbsp;&nbsp;print x<br>&nbsp;&nbsp;&nbsp;&nbsp;x = x + 1<br></code><br></h6>\n",
    "<p>El resultat que obtindríem sería : <br>1<br>2<br>3<br>4<br></p>\n",
    "\n",
    "<h2>FOR</h2>\n",
    "<p>El bucle for no necessita comptador ja que el fa sobre quelcom finit, com una cadena o una llista. De manera que automàticament la recorre de la primera posició a la darrera. Per exemple:</p>\n",
    "<h6><code>s=\"Hola\"<br>for x in s:<br>&nbsp;&nbsp;&nbsp;&nbsp;print x<br></code><br></h6>\n",
    "<p>El resultat que obtindríem sería : <br>H<br>o<br>l<br>a<br></p>\n",
    "<p>Cal tenir en compte que la variable que fa servir el for és exclusiva i només serveix per emmagatzemar el valor corresponent a cada iteració.</p>"
   ]
  },
  {
   "cell_type": "markdown",
   "metadata": {},
   "source": [
    "Exercici 1<br>\n",
    "Mostra per pantalla tots el nombres de 1 a 50 (inclòs), un sota l'altre, utilitzant el while"
   ]
  },
  {
   "cell_type": "code",
   "execution_count": null,
   "metadata": {},
   "outputs": [],
   "source": [
    "#aqui el codi"
   ]
  },
  {
   "cell_type": "markdown",
   "metadata": {},
   "source": [
    "Exercici 2<br>\n",
    "Mostra per pantalla tots el nombres parells de 0 a 50 (inclòs), un sota l'altre,utilizant el while"
   ]
  },
  {
   "cell_type": "code",
   "execution_count": null,
   "metadata": {},
   "outputs": [],
   "source": [
    "#aqui el codi"
   ]
  },
  {
   "cell_type": "markdown",
   "metadata": {},
   "source": [
    "Exercici 3<br>\n",
    "Mostra per pantalla tots el nombres multiples de 3 de 0 a 50 (inclòs), un sota l'altre,utilizant el while"
   ]
  },
  {
   "cell_type": "code",
   "execution_count": null,
   "metadata": {},
   "outputs": [],
   "source": [
    "#aqui el codi"
   ]
  },
  {
   "cell_type": "markdown",
   "metadata": {},
   "source": [
    "Exercici 4<br>\n",
    "Mostra per pantalla un quadrat fet per \"*\" de 5 x 5.\n",
    "<p>*****<br>\n",
    "*****<br>\n",
    "*****<br>\n",
    "*****<br>\n",
    "*****<br>\n",
    "</p>\n",
    "\n",
    "\n"
   ]
  },
  {
   "cell_type": "code",
   "execution_count": null,
   "metadata": {},
   "outputs": [],
   "source": [
    "#aqui el codi\n"
   ]
  },
  {
   "cell_type": "markdown",
   "metadata": {},
   "source": [
    "Exercici 5<br>\n",
    "Mostra per pantalla totes les lletres de la variable s utilitzant el FOR"
   ]
  },
  {
   "cell_type": "code",
   "execution_count": 1,
   "metadata": {},
   "outputs": [],
   "source": [
    "#aqui el codi\n",
    "s=\"Hola com estas\""
   ]
  },
  {
   "cell_type": "markdown",
   "metadata": {},
   "source": [
    "Exercici 6<br>\n",
    "Mostra per pantalla tots el valors de la variable s utilitzant el FOR"
   ]
  },
  {
   "cell_type": "code",
   "execution_count": null,
   "metadata": {},
   "outputs": [],
   "source": [
    "#aqui el codi\n",
    "s=[\"hola\",\"que\",\"tal\",4,True]"
   ]
  },
  {
   "cell_type": "markdown",
   "metadata": {},
   "source": [
    "Exercici 7<br>\n",
    "Mostra per pantalla només les vocals de la variable s"
   ]
  },
  {
   "cell_type": "code",
   "execution_count": null,
   "metadata": {},
   "outputs": [],
   "source": [
    "#aqui el codi\n",
    "s=\"Hola com estas\""
   ]
  },
  {
   "cell_type": "markdown",
   "metadata": {},
   "source": [
    "Exercici 8<br>\n",
    "Mostra per pantalla la mitjana de la variable s"
   ]
  },
  {
   "cell_type": "code",
   "execution_count": null,
   "metadata": {},
   "outputs": [],
   "source": [
    "#aqui el codi\n",
    "s=[5,6,8,7,3]"
   ]
  }
 ],
 "metadata": {
  "interpreter": {
   "hash": "aee8b7b246df8f9039afb4144a1f6fd8d2ca17a180786b69acc140d282b71a49"
  },
  "kernelspec": {
   "display_name": "Python 3.9.2 64-bit",
   "language": "python",
   "name": "python3"
  },
  "language_info": {
   "codemirror_mode": {
    "name": "ipython",
    "version": 3
   },
   "file_extension": ".py",
   "mimetype": "text/x-python",
   "name": "python",
   "nbconvert_exporter": "python",
   "pygments_lexer": "ipython3",
   "version": "3.9.2"
  },
  "orig_nbformat": 4
 },
 "nbformat": 4,
 "nbformat_minor": 2
}
