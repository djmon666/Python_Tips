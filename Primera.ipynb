{
 "cells": [
  {
   "cell_type": "markdown",
   "metadata": {},
   "source": [
    "<h1>REPAS PYTHON</h1>\n",
    "\n",
    "<h2>VARIABLES</h2>\n",
    "<p>Les variables són qualsevol expresió igual a un valor. Per exemple x = 0 on la x seria la variable.<br>\n",
    "No hi ha normes en quant a la nomenclatura, però han de ser alfanumèriques i no poden començar mi en número:\n",
    "x = 0 --> Bé    x1 = 0 --> Bé  1x = 0 --> Incorrecte</p>\n",
    "\n",
    "\n",
    " "
   ]
  },
  {
   "cell_type": "markdown",
   "metadata": {},
   "source": [
    "Exercici 1:\n",
    "Guarda en una variable de nom result el resultat de la multiplicació entre 3 i 23."
   ]
  },
  {
   "cell_type": "code",
   "execution_count": null,
   "metadata": {},
   "outputs": [],
   "source": [
    "#aqui el codi"
   ]
  },
  {
   "cell_type": "markdown",
   "metadata": {},
   "source": [
    "Exercici 2:\n",
    "Guarda en una variable de nom result el resultat de la divisió entre 14 i 6."
   ]
  },
  {
   "cell_type": "code",
   "execution_count": null,
   "metadata": {},
   "outputs": [],
   "source": [
    "#aqui el codi"
   ]
  },
  {
   "cell_type": "markdown",
   "metadata": {},
   "source": [
    "Exercici 3:Guarda en una variable de nom result el resultat del càlcul del residu de la divisió entre 45 i 7."
   ]
  },
  {
   "cell_type": "code",
   "execution_count": null,
   "metadata": {},
   "outputs": [],
   "source": [
    "#aqui el codi"
   ]
  },
  {
   "cell_type": "markdown",
   "metadata": {},
   "source": [
    "Exercici 4: Guarda en una variable de nom result el resultat de l'arrel quadrada de 25."
   ]
  },
  {
   "cell_type": "markdown",
   "metadata": {},
   "source": [
    "#aqui el codi"
   ]
  },
  {
   "cell_type": "markdown",
   "metadata": {},
   "source": [
    "Exercici 5: Guarda en una variable de nom result el resultat el valor absolut de -10."
   ]
  },
  {
   "cell_type": "code",
   "execution_count": null,
   "metadata": {},
   "outputs": [],
   "source": [
    "#aqui el codi"
   ]
  },
  {
   "cell_type": "markdown",
   "metadata": {},
   "source": [
    "Exercici 6: Guarda en una variable de nom result el resultat, en nombres enters, de la divisió entre 13 i 2."
   ]
  },
  {
   "cell_type": "code",
   "execution_count": null,
   "metadata": {},
   "outputs": [],
   "source": [
    "#aqui el codi"
   ]
  },
  {
   "cell_type": "markdown",
   "metadata": {},
   "source": [
    "<h3>TIPUS DE DADES</h3>\n",
    "<p>Tenim bàsicament 4 tipus de dades:<br>\n",
    "<ul>\n",
    "<li>int --> Nombres enters</li>\n",
    "<li>float --> Nombres descimals</li>\n",
    "<li>String --> Cadenes de caràcters o paraules</li>\n",
    "<li>Booleans --> Valors del True o False</li>\n",
    "</ul>\n",
    "<p>En certs casos podem convertir algun tipus de dades en un altre si ens convé:\n",
    "<ul>\n",
    "<li> str() --> Converteix a String el que posem dins el parèntesi.</li>\n",
    "<li> int() --> Converteix a int el que posem dins el parèntesi.</li>\n",
    "<li> float() --> Converteix a float el que posem dins el parèntesi.</li>\n",
    "</ul>\n",
    "<p>Si en algiun moment la conversió no és possible, Python ens mostrarà un error.</p>\n",
    "\n",
    "\n"
   ]
  },
  {
   "cell_type": "markdown",
   "metadata": {},
   "source": [
    "Exercici 7\n",
    "Guarda en una variable de nom result, el resultat de comparar la cadena \"1\" amb l'enter 1."
   ]
  },
  {
   "cell_type": "code",
   "execution_count": null,
   "metadata": {},
   "outputs": [],
   "source": [
    "#aqui el codi"
   ]
  },
  {
   "cell_type": "markdown",
   "metadata": {},
   "source": [
    "Exercici 8\n",
    "Guarda en una variable de nom result, el resultat de comparar la cadena \"1\" amb l'enter 1 transformat a cadena."
   ]
  },
  {
   "cell_type": "code",
   "execution_count": null,
   "metadata": {},
   "outputs": [],
   "source": [
    "#aqui el codi"
   ]
  },
  {
   "cell_type": "markdown",
   "metadata": {},
   "source": [
    "Exercici 9\n",
    "Guarda en una variable de nom result, el resultat de comparar la cadena \"1\" amb l'enter 1."
   ]
  },
  {
   "cell_type": "markdown",
   "metadata": {},
   "source": [
    "#aqui el codi"
   ]
  },
  {
   "cell_type": "markdown",
   "metadata": {},
   "source": [
    "Exercici 10\n",
    "Guarda en una variable de nom result, el resultat de comparar el decimal 3.0 amb l'enter 3."
   ]
  },
  {
   "cell_type": "code",
   "execution_count": 1,
   "metadata": {},
   "outputs": [
    {
     "name": "stdout",
     "output_type": "stream",
     "text": [
      "12\n"
     ]
    }
   ],
   "source": [
    "#aqui el codi\n",
    "result = 3*4\n",
    "print(result)"
   ]
  },
  {
   "cell_type": "markdown",
   "metadata": {},
   "source": [
    "Exercici 11\n",
    "Guarda en una variable de nom result, el resultat de comparar el decimal 3.0 amb l'enter 3 convertit a decimal(float)."
   ]
  },
  {
   "cell_type": "code",
   "execution_count": 6,
   "metadata": {},
   "outputs": [
    {
     "name": "stdout",
     "output_type": "stream",
     "text": [
      "T'has de jubilar\n"
     ]
    }
   ],
   "source": [
    "#aqui el codi\n"
   ]
  },
  {
   "cell_type": "markdown",
   "metadata": {},
   "source": [
    "<h3>CONDICIONALS</h3>\n",
    "<p>Els condicionals ens permeten que el progrma pugui decidir quina porció de codi s'executa en funció d'una o vèries condicions, les evalua en conjunt i determina si són certes o falses.<br>\n",
    "Utilitzem l'<b>if</b>, <b>elif</b>, i <b>else</b>.\n",
    "Per exemple:\n",
    "\n",
    "edat = 18\n",
    "if edat >=18:\n",
    "    if edat > 65:\n",
    "        print( \"T'has de jubilar\")\n",
    "    else:\n",
    "        print(\"Ets major d'edat\")\n",
    "elif edat < 10:\n",
    "    print(\"Ets un marrec\")\n",
    "else:\n",
    "    print(\"Ets menor d'edat\")\n",
    "OUTPUT\n",
    "Ets major d'edat"
   ]
  },
  {
   "cell_type": "markdown",
   "metadata": {},
   "source": [
    "Exercici 12\n",
    "Crea una variable de nom x. I hi guardes el valor resultant de calcular el residu de 25 entre 2.\n",
    "Després crea una estructura condicional que ens digui si la x és igual a 0 guardi en una variable de nom result la paraula \"Parell\". En cas contrari ha de guardar la paraula \"Senar\"."
   ]
  },
  {
   "cell_type": "code",
   "execution_count": null,
   "metadata": {},
   "outputs": [],
   "source": [
    "#aqui el codi"
   ]
  },
  {
   "cell_type": "markdown",
   "metadata": {},
   "source": [
    "Exercici 13\n",
    "Crea una variable de nom x on hi guardes el resultat de multiplicar 53 per 36.\n",
    "Després fes una estructura condicional que digui:\n",
    "- Si la x és menor que 100 guardi en una variable de nom result la frase \"Menor que 100\"\n",
    "- Si no, si la x és mejor que 100 guardi en una variable de nom result la frase \"Major que 100\"\n",
    "- En cas contrari ,guardi en una variable de nom result la frase \"Igual a 100\"\n",
    "\n"
   ]
  },
  {
   "cell_type": "code",
   "execution_count": null,
   "metadata": {},
   "outputs": [],
   "source": [
    "#aqui el codi"
   ]
  }
 ],
 "metadata": {
  "interpreter": {
   "hash": "31f2aee4e71d21fbe5cf8b01ff0e069b9275f58929596ceb00d14d90e3e16cd6"
  },
  "kernelspec": {
   "display_name": "Python 3.8.2 64-bit",
   "language": "python",
   "name": "python3"
  },
  "language_info": {
   "codemirror_mode": {
    "name": "ipython",
    "version": 3
   },
   "file_extension": ".py",
   "mimetype": "text/x-python",
   "name": "python",
   "nbconvert_exporter": "python",
   "pygments_lexer": "ipython3",
   "version": "3.9.2"
  },
  "orig_nbformat": 4
 },
 "nbformat": 4,
 "nbformat_minor": 2
}
